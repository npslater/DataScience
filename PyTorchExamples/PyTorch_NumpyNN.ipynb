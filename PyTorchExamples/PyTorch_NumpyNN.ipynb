{
 "cells": [
  {
   "cell_type": "code",
   "execution_count": 1,
   "metadata": {},
   "outputs": [],
   "source": [
    "import numpy as np"
   ]
  },
  {
   "cell_type": "code",
   "execution_count": 12,
   "metadata": {},
   "outputs": [],
   "source": [
    "class NumpyNN():\n",
    "    def __init__(self, in_layer, hidden_layer, out_layer):\n",
    "    \n",
    "        self.in_layer = in_layer\n",
    "        self.hidden_layer = hidden_layer\n",
    "        self.out_layer = out_layer\n",
    "        self.params = {}\n",
    "        \n",
    "    def __init_params(self):\n",
    "        \n",
    "        w1 = np.random.randn(self.in_layer, self.hidden_layer)\n",
    "        w2 = np.random.randn(self.hidden_layer, self.out_layer)\n",
    "        \n",
    "        self.params['W1'] = w1\n",
    "        self.params['W2'] = w2\n",
    "        \n",
    "    def forward_propagation(self, X):\n",
    "        \n",
    "        self.__init_params()\n",
    "        w1 = self.params['W1']\n",
    "        w2 = self.params['W2']\n",
    "        \n",
    "        h = X.dot(w1)\n",
    "        h_relu = np.maximum(h,0)\n",
    "        y_pred = h_relu.dot(w2)\n",
    "        \n",
    "        activations = {\n",
    "            'Z1': h,\n",
    "            'A1': h_relu,\n",
    "            'Y_pred': y_pred\n",
    "        }\n",
    "        return activations\n",
    "    \n",
    "    def compute_sse_loss(self, Y, Y_pred):\n",
    "        \n",
    "        loss = np.square(Y_pred - Y).sum()\n",
    "        return loss\n",
    "    \n",
    "    def backward_propagation(self, X, Y, activations):\n",
    "        \n",
    "        y_pred = activations['Y_pred']\n",
    "        h_relu = activations['A1']\n",
    "        h = activations['Z1']\n",
    "        w2 = self.params['W2']\n",
    "        w1 = self.params['W1']\n",
    "        \n",
    "        grad_y_pred = 2.0 * (y_pred - Y)\n",
    "        grad_w2 = h_relu.T.dot(grad_y_pred)\n",
    "        grad_h_relu = grad_y_pred.dot(w2.T)\n",
    "        grad_h = grad_h_relu.copy()\n",
    "        grad_h[h < 0] = 0\n",
    "        grad_w1 = X.T.dot(grad_h)\n",
    "        \n",
    "        self.gradients = {\n",
    "            'dw1': grad_w1,\n",
    "            'dw2': grad_w2\n",
    "        }\n",
    "    \n",
    "    def optimize(self, learning_rate):\n",
    "        \n",
    "        w1 = self.params['W1']\n",
    "        w2 = self.params['W2']\n",
    "        dw1 = self.gradients['dw1']\n",
    "        dw2 = self.gradients['dw2']\n",
    "\n",
    "        w1 -= learning_rate * dw1\n",
    "        w2 -= learning_rate * dw2\n",
    "        "
   ]
  },
  {
   "cell_type": "code",
   "execution_count": 14,
   "metadata": {},
   "outputs": [
    {
     "name": "stdout",
     "output_type": "stream",
     "text": [
      "SSE Loss: 23101938.87\n",
      "SSE Loss: 32028051.03\n",
      "SSE Loss: 34850180.12\n",
      "SSE Loss: 25095746.34\n",
      "SSE Loss: 33403530.44\n"
     ]
    }
   ],
   "source": [
    "N, D_in, H, D_out = 64, 1000, 100, 10\n",
    "X = np.random.randn(N, D_in)\n",
    "Y = np.random.randn(N, D_out)\n",
    "\n",
    "nn = NumpyNN(D_in, H, D_out)\n",
    "\n",
    "learning_rate = 0.01\n",
    "num_epochs = 5\n",
    "for i in range(num_epochs):\n",
    "    activations = nn.forward_propagation(X)\n",
    "    print('SSE Loss: %.2f' % nn.compute_sse_loss(Y, activations['Y_pred']))\n",
    "    \n",
    "    nn.backward_propagation(X, Y, activations)\n",
    "    nn.optimize(learning_rate)\n",
    "    \n"
   ]
  },
  {
   "cell_type": "code",
   "execution_count": null,
   "metadata": {},
   "outputs": [],
   "source": []
  }
 ],
 "metadata": {
  "kernelspec": {
   "display_name": "conda_pytorch_p36",
   "language": "python",
   "name": "conda_pytorch_p36"
  },
  "language_info": {
   "codemirror_mode": {
    "name": "ipython",
    "version": 3
   },
   "file_extension": ".py",
   "mimetype": "text/x-python",
   "name": "python",
   "nbconvert_exporter": "python",
   "pygments_lexer": "ipython3",
   "version": "3.6.5"
  }
 },
 "nbformat": 4,
 "nbformat_minor": 2
}
