{
 "cells": [
  {
   "cell_type": "code",
   "execution_count": 575,
   "metadata": {},
   "outputs": [],
   "source": [
    "import pystan\n",
    "import matplotlib.pyplot as plt\n",
    "import seaborn as sns\n",
    "import pandas as pd\n",
    "import numpy as np\n",
    "import arviz\n",
    "from scipy.stats import beta, binom, gamma, poisson, norm\n",
    "from scipy.misc import comb\n",
    "from scipy.special import beta as betaf\n",
    "from sklearn.linear_model import LinearRegression\n",
    "import statsmodels.formula.api as smf\n",
    "\n",
    "%matplotlib inline"
   ]
  },
  {
   "cell_type": "code",
   "execution_count": 355,
   "metadata": {},
   "outputs": [],
   "source": [
    "def plot_beta(betas, lines=[]):\n",
    "    fig, ax = plt.subplots(1,1)\n",
    "    theta = np.arange(0, 1, 0.01)\n",
    "    plt.xlabel(r'$\\theta $')\n",
    "    plt.ylabel('density')\n",
    "    for b in betas:\n",
    "        for line in lines:\n",
    "            ax.axvline(line)\n",
    "        ax.plot(theta, beta.pdf(theta,b[0],b[1]),\n",
    "                color=b[2],\n",
    "                label='beta({},{})'.format(b[0],b[1]))\n",
    "    ax.legend()\n",
    "    return ax\n",
    "    \n",
    "def plot_gamma(gammas, lines=[]):\n",
    "    fix, ax = plt.subplots(1,1)\n",
    "    plt.xlabel(r'$\\theta $')\n",
    "    plt.ylabel('density')\n",
    "    for g in gammas:\n",
    "        theta = np.linspace(gamma.ppf(0.001,g[0],scale=1/g[1]), gamma.ppf(0.999,g[0],scale=1/g[1]), 1000)\n",
    "        ax.plot(theta, gamma.pdf(theta,g[0],scale=1/g[1]),\n",
    "                color=g[2],\n",
    "                label='gamma({},{})'.format(g[0],g[1]))\n",
    "    for line in lines:\n",
    "            ax.axvline(line)\n",
    "    ax.legend()\n",
    "    return ax\n",
    "    \n",
    "    \n",
    "def plot_bar(xs, ys, labels=[]):\n",
    "    \n",
    "    fig, ax = plt.subplots()\n",
    "    plt.bar(xs,ys)\n",
    "\n",
    "    # zip joins x and y coordinates in pairs\n",
    "    for x,y in zip(xs,ys):\n",
    "\n",
    "        label = \"{:.2f}\".format(y)\n",
    "\n",
    "        plt.annotate(label, # this is the text\n",
    "                     (x,y), # this is the point to label\n",
    "                     textcoords=\"offset points\", # how to position the text\n",
    "                     xytext=(0,10), # distance from text to points (x,y)\n",
    "                     ha='center') # horizontal alignment can be left, right or center\n",
    "\n",
    "    ax.set_xticks(xs)\n",
    "    ax.set_xticklabels(labels)\n",
    "    plt.show()"
   ]
  },
  {
   "cell_type": "markdown",
   "metadata": {},
   "source": [
    "## Bayesian Inference Examples\n",
    "\n",
    "This notebook demonstrates the use of Bayesian inference, by working directly with prior and posterior distributions, as well as the Stan library.\n",
    "\n",
    "### Example 1: Working with Prior and Posterior Distributions\n",
    "\n",
    "Two students are given a multiple-choice exam with 40 questions.  Each question has 4 choices.  Student 1 gets 33/40 correct.  Student 2 gets 24/40 correct.  If we think that each student has studied enough that their scores should be better than guessing randomly, how should we model this?\n",
    "\n",
    "Let $\\mathcal{x}$ be a random variable representing a correct answer  \n",
    "Let $\\theta = \\mathcal{P}(x)$  \n",
    "Let $\\theta_1 = \\mathcal{P}(x=33|\\theta)$  \n",
    "Let $\\theta_2 = \\mathcal{P}(x=24|\\theta)$  \n",
    "\n",
    "First we need a reasonable prior for theta, given that we suspect that the two students have studied enough to do better than random chance.  Let's look at 3 different beta distributions for our prior.\n",
    "\n"
   ]
  },
  {
   "cell_type": "code",
   "execution_count": 135,
   "metadata": {},
   "outputs": [
    {
     "data": {
      "text/plain": [
       "<matplotlib.axes._subplots.AxesSubplot at 0x7f054f44f978>"
      ]
     },
     "execution_count": 135,
     "metadata": {},
     "output_type": "execute_result"
    },
    {
     "data": {
      "image/png": "[encoded data removed]",
      "text/plain": [
       "<Figure size 432x288 with 1 Axes>"
      ]
     },
     "metadata": {},
     "output_type": "display_data"
    }
   ],
   "source": [
    "plot_beta([(1,1, 'r'), (4,2, 'b'), (8,4, 'g')], lines=[0.25])"
   ]
  },
  {
   "cell_type": "markdown",
   "metadata": {},
   "source": [
    "$\\mathcal{beta}(8,4)$ appears to have the most mass above our 0.25 cutoff.  We can confirm that with the cumulative density of each beta distribution below."
   ]
  },
  {
   "cell_type": "code",
   "execution_count": 116,
   "metadata": {},
   "outputs": [
    {
     "data": {
      "image/png": "[encoded data removed]",
      "text/plain": [
       "<Figure size 432x288 with 1 Axes>"
      ]
     },
     "metadata": {},
     "output_type": "display_data"
    }
   ],
   "source": [
    "xs = [(8,4), (4,2), (1,1)]\n",
    "ys = list(map(lambda x: 1-beta.cdf(0.25, x[0], x[1]), xs))\n",
    "plot_bar(np.arange(len(xs)),ys, labels=['beta(8,4)', 'beta(4,2)', 'beta(1,1)'])"
   ]
  },
  {
   "cell_type": "markdown",
   "metadata": {},
   "source": [
    "Now let's compute the posterior, which will also be a beta distrbution.  Student 1 got 33 out of 40 questions correct.  Recall that the posterior for a binomial distribution such as this is given as:\n",
    "\n",
    "$\\mathcal{n}$ = 40  \n",
    "$\\alpha$ = 8  \n",
    "$\\beta$ = 4  \n",
    "$\\sum_{i=1}^n x_i$ = 33    \n",
    "posterior = $\\mathcal{beta}$($\\alpha$ + $\\sum_{i=1}^n x_i$, $\\beta$ + $\\mathcal{n}$ - $\\sum_{i=1}^n x_i$)  \n",
    "posterior = $\\mathcal{beta}$(8+33, 4+40-33)  \n",
    "posterior = $\\mathcal{beta}$(41,11)\n",
    "\n",
    "MLE = $\\mathcal{x}$/$\\mathcal{n}$ = 33/40  \n",
    "posterior mean = $\\alpha$ / ($\\alpha$ + $\\beta$) = 41/(41+11)  \n",
    "likelihood = $\\mathcal{x}\\sim\\mathcal{binomal}(n,\\theta)$  "
   ]
  },
  {
   "cell_type": "code",
   "execution_count": 300,
   "metadata": {},
   "outputs": [
    {
     "data": {
      "text/plain": [
       "<matplotlib.legend.Legend at 0x7f052c62e198>"
      ]
     },
     "execution_count": 300,
     "metadata": {},
     "output_type": "execute_result"
    },
    {
     "data": {
      "image/png": "[encoded data removed]",
      "text/plain": [
       "<Figure size 432x288 with 1 Axes>"
      ]
     },
     "metadata": {},
     "output_type": "display_data"
    }
   ],
   "source": [
    "pr_alpha = 8\n",
    "pr_beta = 4\n",
    "po_alpha = 41\n",
    "po_beta = 11\n",
    "x = 33\n",
    "n = 40\n",
    "mle = x/n\n",
    "\n",
    "lines = [beta.ppf(0.025, po_alpha, po_beta), beta.ppf(0.975, po_alpha, po_beta)]\n",
    "ax = plot_beta([(po_alpha,po_beta, 'r'), (pr_alpha,pr_beta,'b')], lines=lines)\n",
    "theta = np.arange(0, 100, 0.01)\n",
    "ax.plot(theta, binom.pmf(x, n, theta)*44, label='likelihood')\n",
    "ax.axhline(binom.pmf(x,n,mle)*44)\n",
    "ax.legend()"
   ]
  },
  {
   "cell_type": "markdown",
   "metadata": {},
   "source": [
    "Let's do the same for student 2:\n",
    "\n",
    "$\\mathcal{n}$ = 24    \n",
    "$\\alpha$ = 8  \n",
    "$\\beta$ = 4  \n",
    "$\\sum_{i=1}^n x_i$ = 24      \n",
    "posterior = $\\mathcal{beta}$($\\alpha$ + $\\sum_{i=1}^n x_i$, $\\beta$ + $\\mathcal{n}$ - $\\sum_{i=1}^n x_i$)  \n",
    "posterior = $\\mathcal{beta}$(8+24, 4+40-24)  \n",
    "posterior = $\\mathcal{beta}$(32,20)\n",
    "\n",
    "MLE = $\\mathcal{x}$/$\\mathcal{n}$ = 24/40  \n",
    "posterior mean = $\\alpha$ / ($\\alpha$ + $\\beta$) = 32/(32+20)  \n",
    "likelihood = $\\mathcal{x}\\sim\\mathcal{binomal}(n,\\theta)$  "
   ]
  },
  {
   "cell_type": "code",
   "execution_count": 299,
   "metadata": {},
   "outputs": [
    {
     "data": {
      "text/plain": [
       "<matplotlib.legend.Legend at 0x7f0524d87860>"
      ]
     },
     "execution_count": 299,
     "metadata": {},
     "output_type": "execute_result"
    },
    {
     "data": {
      "image/png": "[encoded data removed]",
      "text/plain": [
       "<Figure size 432x288 with 1 Axes>"
      ]
     },
     "metadata": {},
     "output_type": "display_data"
    }
   ],
   "source": [
    "pr_alpha = 8\n",
    "pr_beta = 4\n",
    "po_alpha = 32\n",
    "po_beta = 20\n",
    "x = 24\n",
    "n = 40\n",
    "mle = x/n\n",
    "\n",
    "lines = [beta.ppf(0.025, po_alpha, po_beta), beta.ppf(0.975, po_alpha, po_beta)]\n",
    "ax = plot_beta([(po_alpha,po_beta, 'r'), (pr_alpha,pr_beta,'b')], lines=lines)\n",
    "theta = np.arange(0, 100, 0.01)\n",
    "ax.plot(theta, binom.pmf(x, n, theta)*44, label='likelihood')\n",
    "ax.axhline(binom.pmf(x,n,mle)*44)\n",
    "ax.legend()"
   ]
  },
  {
   "cell_type": "markdown",
   "metadata": {},
   "source": [
    "Now let's estimate the probability of $\\theta_1$ being greater than $\\theta_2$.  We do this through simulation, since this is easier than solving analytically.  We're going to draw samples from these distributions:\n",
    "\n",
    "$\\theta_1\\sim\\mathcal{beta}(41,11)$  \n",
    "$\\theta_1\\sim\\mathcal{beta}(32,20)$  \n",
    "\n",
    "and then take the mean of the number of times $\\theta_1\\gt\\theta_2$  "
   ]
  },
  {
   "cell_type": "code",
   "execution_count": 140,
   "metadata": {},
   "outputs": [
    {
     "data": {
      "text/plain": [
       "0.971"
      ]
     },
     "execution_count": 140,
     "metadata": {},
     "output_type": "execute_result"
    }
   ],
   "source": [
    "theta1 = beta.rvs(41,11,size=1000)\n",
    "theta2 = beta.rvs(32,20, size=1000)\n",
    "np.mean(theta1 > theta2)"
   ]
  },
  {
   "cell_type": "markdown",
   "metadata": {},
   "source": [
    "### Example 2: Prior and posterior predictive probabilities\n",
    "\n",
    "Now let's look at using the Stan language with the Python binding, called PyStan. Let's start with a simple example.  Let's say we have the following:  \n",
    "$\\theta\\sim\\mathcal{beta}(a,b)$  \n",
    "$\\mathcal{x}\\sim\\mathcal{binomial}(n, \\theta)$  \n",
    "  \n",
    "Prior predictive:  \n",
    "What is $\\mathcal{P}(x^* = 1)$ when $\\theta\\sim\\mathcal{beta}(2,2)$?  \n",
    "\n",
    "Posterior predictive:  \n",
    "What is $\\mathcal{P}(x_{11} = 1)$  when $\\theta\\sim\\mathcal{beta}(2,2)$ and we've observed $\\mathcal{k=3}$ successes in $\\mathcal{n=10}$ trials? \n",
    "\n"
   ]
  },
  {
   "cell_type": "code",
   "execution_count": 258,
   "metadata": {},
   "outputs": [
    {
     "name": "stderr",
     "output_type": "stream",
     "text": [
      "INFO:pystan:COMPILING THE C++ CODE FOR MODEL anon_model_20941722c1a9b2272d404537b9d34c1c NOW.\n"
     ]
    }
   ],
   "source": [
    "beta_binom_model = \"\"\"\n",
    "data {\n",
    "    int<lower=0,upper=1> prior_only;\n",
    "    int n; //number of trials\n",
    "    int k; //number of successes\n",
    "    real<lower=0> a; \n",
    "    real<lower=0> b;\n",
    "}\n",
    "parameters {\n",
    "    real<lower=0,upper=1> theta;\n",
    "}\n",
    "model {\n",
    "    theta ~ beta(a, b);  //prior\n",
    "    if ( prior_only == 0 ) {\n",
    "        k ~ binomial(n, theta);  //likelihood\n",
    "    }\n",
    "}\n",
    "generated quantities {\n",
    "    int m = binomial_rng(n, theta);\n",
    "}\n",
    "\"\"\"\n",
    "sm = pystan.StanModel(model_code=beta_binom_model)"
   ]
  },
  {
   "cell_type": "code",
   "execution_count": 259,
   "metadata": {},
   "outputs": [
    {
     "data": {
      "text/plain": [
       "Inference for Stan model: anon_model_20941722c1a9b2272d404537b9d34c1c.\n",
       "4 chains, each with iter=4000; warmup=2000; thin=1; \n",
       "post-warmup draws per chain=2000, total post-warmup draws=8000.\n",
       "\n",
       "        mean se_mean     sd   2.5%    25%    50%    75%  97.5%  n_eff   Rhat\n",
       "theta    0.5  4.1e-3   0.22   0.09   0.32    0.5   0.67    0.9   3078    1.0\n",
       "m        0.5  6.5e-3    0.5    0.0    0.0    1.0    1.0    1.0   5854    1.0\n",
       "lp__   -3.34    0.01   0.79  -5.54  -3.54  -3.04  -2.83  -2.77   3502    1.0\n",
       "\n",
       "Samples were drawn using NUTS at Tue Jun 30 03:54:53 2020.\n",
       "For each parameter, n_eff is a crude measure of effective sample size,\n",
       "and Rhat is the potential scale reduction factor on split chains (at \n",
       "convergence, Rhat=1)."
      ]
     },
     "execution_count": 259,
     "metadata": {},
     "output_type": "execute_result"
    }
   ],
   "source": [
    "#prior predictive--no observed data yet so we sample only from the prior\n",
    "data = {'a':2, 'b':2, 'n':1, 'k':0, 'prior_only': 1}\n",
    "fit = sm.sampling(data=data, iter=4000, chains=4)\n",
    "fit"
   ]
  },
  {
   "cell_type": "code",
   "execution_count": 279,
   "metadata": {},
   "outputs": [
    {
     "data": {
      "text/plain": [
       "Inference for Stan model: anon_model_20941722c1a9b2272d404537b9d34c1c.\n",
       "4 chains, each with iter=4000; warmup=2000; thin=1; \n",
       "post-warmup draws per chain=2000, total post-warmup draws=8000.\n",
       "\n",
       "        mean se_mean     sd   2.5%    25%    50%    75%  97.5%  n_eff   Rhat\n",
       "theta   0.36  2.2e-3   0.12   0.14   0.27   0.35   0.44   0.61   3102    1.0\n",
       "m       3.57    0.03   1.92    0.0    2.0    3.0    5.0    7.0   4856    1.0\n",
       "lp__   -9.62    0.01    0.7 -11.61  -9.79  -9.36  -9.18  -9.13   3355    1.0\n",
       "\n",
       "Samples were drawn using NUTS at Tue Jun 30 04:02:12 2020.\n",
       "For each parameter, n_eff is a crude measure of effective sample size,\n",
       "and Rhat is the potential scale reduction factor on split chains (at \n",
       "convergence, Rhat=1)."
      ]
     },
     "execution_count": 279,
     "metadata": {},
     "output_type": "execute_result"
    }
   ],
   "source": [
    "#posterior predictive--we have observed data so we sample from posterior\n",
    "data = {'a':2, 'b':2, 'k':3, 'n':10, 'prior_only': 0}\n",
    "fit = sm.sampling(data=data, iter=4000, chains=4)\n",
    "fit"
   ]
  },
  {
   "cell_type": "markdown",
   "metadata": {},
   "source": [
    "### Example 3 - Poisson Distributions\n",
    "\n",
    "\n",
    "Likelihood:  \n",
    "$\\mathcal{Y_i}\\sim\\mathcal{Poisson}(\\lambda)$  \n",
    "$\\mathcal{f}(y|\\lambda) = \\frac{\\lambda^{\\sum y_i}{e^{-n}}^\\lambda}{\\prod_{i=1} y_i!}$  \n",
    "Gamma prior:  \n",
    "$\\lambda \\sim \\Gamma(\\alpha, \\beta)$  \n",
    "$\\mathcal{f}(\\lambda) = \\frac{\\beta^\\alpha}{\\Gamma(\\alpha)}{\\lambda}^{\\alpha-1}{e}^{-\\beta\\lambda}$  \n",
    "Prior mean: $\\frac{\\alpha}{\\beta}$  \n",
    "Prior sdev: $\\frac{\\sqrt{\\alpha}}{\\beta}$  \n",
    "Posterior:  \n",
    "$\\mathcal{f}(\\lambda|y) = \\mathcal{f}(y|\\lambda)\\mathcal{f}(\\lambda) = {\\lambda}^{\\sum y_i}{e}^{-n\\lambda}{\\lambda}^{\\alpha - 1}{e}^{-\\beta\\lambda} = \\Gamma(\\alpha + \\sum y_i, \\beta + n)$  \n",
    "Posterior mean:  \n",
    "$\\frac{\\alpha + \\sum y_i}{\\beta + n}  = \\frac{\\beta}{\\beta+n} * \\frac{\\alpha}{\\beta} + \\frac{n}{\\beta + n} * \\frac{\\sum y_i}{n}$  \n",
    "Vague prior:  \n",
    "small $\\epsilon \\gt 0 $  \n",
    "prior: $\\Gamma(\\epsilon, \\epsilon)$  \n",
    "posterior: $\\Gamma(\\epsilon + \\sum y_i, \\epsilon + n)$  \n",
    "posterior mean: $\\frac{\\epsilon + \\sum y_i}{\\epsilon + n}$  \n",
    "since epsilon is small, the posterior mean is basically the mean of the observed data  \n",
    "\n",
    "  \n",
    "  \n",
    "Let $\\theta$ be the rate of customer service calls per customer per day.  \n",
    "Let $\\mathcal{n}$ be the number of customers.  \n",
    "Let $\\mathcal{t}$ be the number of days.\n",
    "If $\\mathcal{Y}$ is the total number of calls, then we can say  \n",
    "$\\mathcal{Y}\\sim\\mathcal{Poisson}(nt\\theta)$  \n",
    "  \n",
    "Prior for $\\theta$ is $\\theta\\sim\\mathcal{Gamma}(a,b)$  \n",
    "Posterior for $\\theta$ is $\\mathcal{Gamma}(a+y, b+nt)$  \n",
    "  \n",
    "  \n",
    "On average, the customer service center receives 0.01 calls per day, with standard deviation of 0.5:  \n",
    "  \n",
    "$\\frac{a}{b}$ = 0.01  \n",
    "$\\frac{\\sqrt{a}}{b}$ = 0.5  \n",
    "a = 0.25 $\\ b^2$  \n",
    "$\\frac{0.25 b^2}{b}$ = 0.01  \n",
    "b = 0.04, a = 0.0004  \n",
    "$\\theta\\sim\\mathcal{Gamma}(0.0004, 0.04)$ for the prior\n",
    "  \n",
    "n = 24 customers, t = 5 days, y = 6 customer calls\n",
    "$\\theta\\sim\\mathcal{Gamma}(6.0004, 120.04)$ for the posterior  \n",
    "\n",
    "\n",
    "\n"
   ]
  },
  {
   "cell_type": "code",
   "execution_count": 358,
   "metadata": {},
   "outputs": [
    {
     "data": {
      "image/png": "[encoded data removed]",
      "text/plain": [
       "<Figure size 432x288 with 1 Axes>"
      ]
     },
     "metadata": {},
     "output_type": "display_data"
    }
   ],
   "source": [
    "g_pr = (0.0004, 0.04, 'r')\n",
    "g_po = (6.0004, 120.04, 'b')\n",
    "y = 6\n",
    "theta_mean = 0.01\n",
    "ax = plot_gamma([g_po], lines=[0.01])\n",
    "#theta = np.arange(0, 100, 0.01)\n",
    "#ax.plot(theta, poisson.pmf(theta, n, theta)*44, label='likelihood')"
   ]
  },
  {
   "cell_type": "code",
   "execution_count": 412,
   "metadata": {},
   "outputs": [],
   "source": [
    "temps = np.array([94.6, 95.4, 96.2, 94.9, 95.9])"
   ]
  },
  {
   "cell_type": "code",
   "execution_count": 417,
   "metadata": {},
   "outputs": [
    {
     "data": {
      "text/plain": [
       "(95.4, 0.5966573556070541)"
      ]
     },
     "execution_count": 417,
     "metadata": {},
     "output_type": "execute_result"
    }
   ],
   "source": [
    "(temps.mean(), temps.std())"
   ]
  },
  {
   "cell_type": "code",
   "execution_count": 426,
   "metadata": {},
   "outputs": [],
   "source": [
    "t1 = 1/0.25\n",
    "t2 = 1/(0.25/5)\n",
    "sigma1 = math.pow((t1+t2), -1)\n",
    "\n",
    "t3 = (100/0.25)\n",
    "t4 = temps.mean()/(0.25/5)\n",
    "mean1 = sigma1*(t3+t4)"
   ]
  },
  {
   "cell_type": "code",
   "execution_count": 427,
   "metadata": {},
   "outputs": [
    {
     "data": {
      "text/plain": [
       "(96.16666666666666, 0.041666666666666664)"
      ]
     },
     "execution_count": 427,
     "metadata": {},
     "output_type": "execute_result"
    }
   ],
   "source": [
    "(mean1, sigma1)"
   ]
  },
  {
   "cell_type": "code",
   "execution_count": 436,
   "metadata": {},
   "outputs": [
    {
     "data": {
      "text/plain": [
       "[<matplotlib.lines.Line2D at 0x7f0524cdccf8>]"
      ]
     },
     "execution_count": 436,
     "metadata": {},
     "output_type": "execute_result"
    },
    {
     "data": {
      "image/png": "[encoded data removed]",
      "text/plain": [
       "<Figure size 432x288 with 1 Axes>"
      ]
     },
     "metadata": {},
     "output_type": "display_data"
    }
   ],
   "source": [
    "fig, ax = plt.subplots(1, 1)\n",
    "x = np.linspace(norm.ppf(0.01, mean1, sigma1), norm.ppf(0.99, mean1, sigma1))\n",
    "ax.plot(x, norm.pdf(x, mean1, sigma1))"
   ]
  },
  {
   "cell_type": "code",
   "execution_count": 472,
   "metadata": {},
   "outputs": [
    {
     "data": {
      "text/plain": [
       "96.56674263969627"
      ]
     },
     "execution_count": 472,
     "metadata": {},
     "output_type": "execute_result"
    }
   ],
   "source": [
    "norm.ppf(0.975, mean1, np.sqrt(sigma1))"
   ]
  },
  {
   "cell_type": "code",
   "execution_count": 463,
   "metadata": {},
   "outputs": [
    {
     "data": {
      "text/plain": [
       "94.51338347719438"
      ]
     },
     "execution_count": 463,
     "metadata": {},
     "output_type": "execute_result"
    }
   ],
   "source": [
    "z = gamma.rvs(3, scale=1/200, size=1000)\n",
    "x = 1/z\n",
    "x.mean()"
   ]
  },
  {
   "cell_type": "code",
   "execution_count": 461,
   "metadata": {},
   "outputs": [
    {
     "data": {
      "text/plain": [
       "array([607.58216426, 607.99933431, 610.59502332, ..., 611.21797827,\n",
       "       616.07260835, 610.97959385])"
      ]
     },
     "execution_count": 461,
     "metadata": {},
     "output_type": "execute_result"
    }
   ],
   "source": [
    "z = gamma.rvs(16.5, scale=1/6022.9, size=5000)\n",
    "sig2 = 1/z\n",
    "mu = norm.rvs(loc=609.3, scale=np.sqrt(sig2/27.1), size=5000)\n",
    "mu"
   ]
  },
  {
   "cell_type": "code",
   "execution_count": 462,
   "metadata": {},
   "outputs": [
    {
     "data": {
      "text/plain": [
       "array([596.11264586, 600.46845374])"
      ]
     },
     "execution_count": 462,
     "metadata": {},
     "output_type": "execute_result"
    }
   ],
   "source": [
    "np.percentile(mu, [0.025, 0.975])"
   ]
  },
  {
   "cell_type": "code",
   "execution_count": 464,
   "metadata": {},
   "outputs": [],
   "source": [
    "a = 3\n",
    "b = 200\n",
    "nA = 30\n",
    "yA = 622.8\n",
    "sigmaA = 403.1\n",
    "w = 0.1"
   ]
  },
  {
   "cell_type": "code",
   "execution_count": 465,
   "metadata": {},
   "outputs": [
    {
     "data": {
      "text/plain": [
       "18.0"
      ]
     },
     "execution_count": 465,
     "metadata": {},
     "output_type": "execute_result"
    }
   ],
   "source": [
    "a_prime = a + (nA/2)\n",
    "a_prime"
   ]
  },
  {
   "cell_type": "code",
   "execution_count": 470,
   "metadata": {},
   "outputs": [
    {
     "data": {
      "text/plain": [
       "6796.437043189369"
      ]
     },
     "execution_count": 470,
     "metadata": {},
     "output_type": "execute_result"
    }
   ],
   "source": [
    "t1 = ((nA-1)/2) * sigmaA\n",
    "t2 = ((w*nA)/(2*(w+nA)))*math.pow((yA-500),2)\n",
    "b_prime = b + t1 + t2\n",
    "b_prime"
   ]
  },
  {
   "cell_type": "code",
   "execution_count": 471,
   "metadata": {},
   "outputs": [
    {
     "data": {
      "text/plain": [
       "622.3920265780731"
      ]
     },
     "execution_count": 471,
     "metadata": {},
     "output_type": "execute_result"
    }
   ],
   "source": [
    "m_prime = ((nA*yA) + (w*500))/(w+nA)\n",
    "m_prime"
   ]
  },
  {
   "cell_type": "code",
   "execution_count": 482,
   "metadata": {},
   "outputs": [
    {
     "name": "stderr",
     "output_type": "stream",
     "text": [
      "INFO:pystan:COMPILING THE C++ CODE FOR MODEL anon_model_39020475a9b9549bf60537489c5c05ad NOW.\n"
     ]
    }
   ],
   "source": [
    "norm_model =  '''\n",
    "data {\n",
    "  int<lower=1> n; // number of observations\n",
    "  vector[n] y; // observations\n",
    "  real<lower=0> sigma2; //known variance of observations\n",
    "  real m; //prior mean\n",
    "  real<lower=0> s2; //variance of theta\n",
    "}\n",
    "parameters {\n",
    "  real theta; // unknown mean\n",
    "}\n",
    "model {\n",
    "  target += normal_lpdf(theta | m, sqrt(s2));\n",
    "  target += normal_lpdf(y | theta, sqrt(sigma2));\n",
    "}\n",
    "'''\n",
    "sm = pystan.StanModel(model_code=norm_model)"
   ]
  },
  {
   "cell_type": "code",
   "execution_count": 483,
   "metadata": {},
   "outputs": [],
   "source": [
    "data = {\n",
    "    'n': 5,\n",
    "    'y': [94.6, 95.4, 96.2, 94.9, 95.9],\n",
    "    'm': 100,\n",
    "    'sigma2': 0.25,\n",
    "    's2': 0.25\n",
    "}\n",
    "fit=sm.sampling(data = data, iter=4000, chains=4)"
   ]
  },
  {
   "cell_type": "code",
   "execution_count": 484,
   "metadata": {},
   "outputs": [
    {
     "data": {
      "text/plain": [
       "Inference for Stan model: anon_model_39020475a9b9549bf60537489c5c05ad.\n",
       "4 chains, each with iter=4000; warmup=2000; thin=1; \n",
       "post-warmup draws per chain=2000, total post-warmup draws=8000.\n",
       "\n",
       "        mean se_mean     sd   2.5%    25%    50%    75%  97.5%  n_eff   Rhat\n",
       "theta  96.16  3.8e-3    0.2  95.77  96.02  96.17   96.3  96.56   2857    1.0\n",
       "lp__  -40.68    0.01   0.68 -42.68 -40.83 -40.41 -40.23 -40.18   3573    1.0\n",
       "\n",
       "Samples were drawn using NUTS at Sun Jul 26 20:47:49 2020.\n",
       "For each parameter, n_eff is a crude measure of effective sample size,\n",
       "and Rhat is the potential scale reduction factor on split chains (at \n",
       "convergence, Rhat=1)."
      ]
     },
     "execution_count": 484,
     "metadata": {},
     "output_type": "execute_result"
    }
   ],
   "source": [
    "fit"
   ]
  },
  {
   "cell_type": "code",
   "execution_count": 488,
   "metadata": {},
   "outputs": [
    {
     "name": "stderr",
     "output_type": "stream",
     "text": [
      "INFO:pystan:COMPILING THE C++ CODE FOR MODEL anon_model_aaa8f7905eb58f4b80f36aa12defc473 NOW.\n"
     ]
    }
   ],
   "source": [
    "norm_model_1 =  '''\n",
    "data {\n",
    "  int<lower=1> n; // number of observations\n",
    "  vector[n] y;\n",
    "  real m; //prior mean\n",
    "  int alpha;  //used in inverse gamma for marginal prior of sigma2\n",
    "  int beta; //used in invese gamma for marginal prior of sigma2\n",
    "  real w; //effective sample size of prior mean\n",
    "}\n",
    "parameters {\n",
    "  real mu; // unknown mean\n",
    "  real<lower=0> sigma2; //unknown variance\n",
    "}\n",
    "model {\n",
    "  target += inv_gamma_lpdf(sigma2 | alpha, beta);\n",
    "  target += normal_lpdf(mu | m, sqrt(sigma2/w));\n",
    "  target += normal_lpdf(y | mu, sqrt(sigma2));\n",
    "}\n",
    "'''\n",
    "sm = pystan.StanModel(model_code=norm_model_1)"
   ]
  },
  {
   "cell_type": "code",
   "execution_count": 499,
   "metadata": {},
   "outputs": [],
   "source": [
    "dataA = {\n",
    "    'n': 30,\n",
    "    'm': 500,\n",
    "    'alpha': 3,\n",
    "    'beta': 200,\n",
    "    'w': 0.1,\n",
    "    'y': norm.rvs(622.8, np.sqrt(403.1), size=30)\n",
    "}\n",
    "dataB = {\n",
    "    'n': 27,\n",
    "    'm': 500,\n",
    "    'alpha': 3,\n",
    "    'beta': 200,\n",
    "    'w': 0.1,\n",
    "    'y': norm.rvs(609.7, np.sqrt(401.8), size=27)\n",
    "}"
   ]
  },
  {
   "cell_type": "code",
   "execution_count": 518,
   "metadata": {},
   "outputs": [],
   "source": [
    "fitA=sm.sampling(data = dataA, iter=4000, chains=4)\n",
    "fitB=sm.sampling(data = dataB, iter=4000, chains=4)"
   ]
  },
  {
   "cell_type": "code",
   "execution_count": 519,
   "metadata": {},
   "outputs": [
    {
     "data": {
      "text/plain": [
       "0.998375"
      ]
     },
     "execution_count": 519,
     "metadata": {},
     "output_type": "execute_result"
    }
   ],
   "source": [
    "np.sum(fitA['mu'] > fitB['mu'])/fitA['mu'].size"
   ]
  },
  {
   "cell_type": "code",
   "execution_count": 537,
   "metadata": {},
   "outputs": [
    {
     "data": {
      "text/html": [
       "<div>\n",
       "<style scoped>\n",
       "    .dataframe tbody tr th:only-of-type {\n",
       "        vertical-align: middle;\n",
       "    }\n",
       "\n",
       "    .dataframe tbody tr th {\n",
       "        vertical-align: top;\n",
       "    }\n",
       "\n",
       "    .dataframe thead th {\n",
       "        text-align: right;\n",
       "    }\n",
       "</style>\n",
       "<table border=\"1\" class=\"dataframe\">\n",
       "  <thead>\n",
       "    <tr style=\"text-align: right;\">\n",
       "      <th></th>\n",
       "      <th>T</th>\n",
       "      <th>I</th>\n",
       "    </tr>\n",
       "  </thead>\n",
       "  <tbody>\n",
       "    <tr>\n",
       "      <th>0</th>\n",
       "      <td>53</td>\n",
       "      <td>11</td>\n",
       "    </tr>\n",
       "    <tr>\n",
       "      <th>1</th>\n",
       "      <td>57</td>\n",
       "      <td>4</td>\n",
       "    </tr>\n",
       "    <tr>\n",
       "      <th>2</th>\n",
       "      <td>58</td>\n",
       "      <td>4</td>\n",
       "    </tr>\n",
       "    <tr>\n",
       "      <th>3</th>\n",
       "      <td>63</td>\n",
       "      <td>2</td>\n",
       "    </tr>\n",
       "    <tr>\n",
       "      <th>4</th>\n",
       "      <td>66</td>\n",
       "      <td>0</td>\n",
       "    </tr>\n",
       "    <tr>\n",
       "      <th>5</th>\n",
       "      <td>67</td>\n",
       "      <td>0</td>\n",
       "    </tr>\n",
       "    <tr>\n",
       "      <th>6</th>\n",
       "      <td>67</td>\n",
       "      <td>0</td>\n",
       "    </tr>\n",
       "    <tr>\n",
       "      <th>7</th>\n",
       "      <td>67</td>\n",
       "      <td>0</td>\n",
       "    </tr>\n",
       "    <tr>\n",
       "      <th>8</th>\n",
       "      <td>68</td>\n",
       "      <td>0</td>\n",
       "    </tr>\n",
       "    <tr>\n",
       "      <th>9</th>\n",
       "      <td>69</td>\n",
       "      <td>0</td>\n",
       "    </tr>\n",
       "    <tr>\n",
       "      <th>10</th>\n",
       "      <td>70</td>\n",
       "      <td>4</td>\n",
       "    </tr>\n",
       "    <tr>\n",
       "      <th>11</th>\n",
       "      <td>70</td>\n",
       "      <td>0</td>\n",
       "    </tr>\n",
       "    <tr>\n",
       "      <th>12</th>\n",
       "      <td>70</td>\n",
       "      <td>4</td>\n",
       "    </tr>\n",
       "    <tr>\n",
       "      <th>13</th>\n",
       "      <td>70</td>\n",
       "      <td>0</td>\n",
       "    </tr>\n",
       "    <tr>\n",
       "      <th>14</th>\n",
       "      <td>72</td>\n",
       "      <td>0</td>\n",
       "    </tr>\n",
       "    <tr>\n",
       "      <th>15</th>\n",
       "      <td>73</td>\n",
       "      <td>0</td>\n",
       "    </tr>\n",
       "    <tr>\n",
       "      <th>16</th>\n",
       "      <td>75</td>\n",
       "      <td>0</td>\n",
       "    </tr>\n",
       "    <tr>\n",
       "      <th>17</th>\n",
       "      <td>75</td>\n",
       "      <td>4</td>\n",
       "    </tr>\n",
       "    <tr>\n",
       "      <th>18</th>\n",
       "      <td>76</td>\n",
       "      <td>0</td>\n",
       "    </tr>\n",
       "    <tr>\n",
       "      <th>19</th>\n",
       "      <td>76</td>\n",
       "      <td>0</td>\n",
       "    </tr>\n",
       "    <tr>\n",
       "      <th>20</th>\n",
       "      <td>78</td>\n",
       "      <td>0</td>\n",
       "    </tr>\n",
       "    <tr>\n",
       "      <th>21</th>\n",
       "      <td>79</td>\n",
       "      <td>0</td>\n",
       "    </tr>\n",
       "    <tr>\n",
       "      <th>22</th>\n",
       "      <td>81</td>\n",
       "      <td>0</td>\n",
       "    </tr>\n",
       "  </tbody>\n",
       "</table>\n",
       "</div>"
      ],
      "text/plain": [
       "     T   I\n",
       "0   53  11\n",
       "1   57   4\n",
       "2   58   4\n",
       "3   63   2\n",
       "4   66   0\n",
       "5   67   0\n",
       "6   67   0\n",
       "7   67   0\n",
       "8   68   0\n",
       "9   69   0\n",
       "10  70   4\n",
       "11  70   0\n",
       "12  70   4\n",
       "13  70   0\n",
       "14  72   0\n",
       "15  73   0\n",
       "16  75   0\n",
       "17  75   4\n",
       "18  76   0\n",
       "19  76   0\n",
       "20  78   0\n",
       "21  79   0\n",
       "22  81   0"
      ]
     },
     "execution_count": 537,
     "metadata": {},
     "output_type": "execute_result"
    }
   ],
   "source": [
    "df = pd.read_csv('http://www.randomservices.org/random/data/Challenger2.txt', delimiter='\\t')\n",
    "df"
   ]
  },
  {
   "cell_type": "code",
   "execution_count": 571,
   "metadata": {},
   "outputs": [
    {
     "data": {
      "text/plain": [
       "<matplotlib.axes._subplots.AxesSubplot at 0x7f0510601b38>"
      ]
     },
     "execution_count": 571,
     "metadata": {},
     "output_type": "execute_result"
    },
    {
     "data": {
      "image/png": "[encoded data removed]",
      "text/plain": [
       "<Figure size 432x288 with 1 Axes>"
      ]
     },
     "metadata": {},
     "output_type": "display_data"
    }
   ],
   "source": [
    "df.plot.scatter(x='T', y='I')"
   ]
  },
  {
   "cell_type": "code",
   "execution_count": 547,
   "metadata": {},
   "outputs": [],
   "source": [
    "X = np.array(df['T']).reshape(-1,1)\n",
    "y = np.array(df['I'])\n",
    "reg = LinearRegression().fit(X,y)"
   ]
  },
  {
   "cell_type": "code",
   "execution_count": 553,
   "metadata": {},
   "outputs": [
    {
     "data": {
      "text/plain": [
       "(array([-0.24337302]), 18.365079365079357)"
      ]
     },
     "execution_count": 553,
     "metadata": {},
     "output_type": "execute_result"
    }
   ],
   "source": [
    "(reg.coef_, reg.intercept_)"
   ]
  },
  {
   "cell_type": "code",
   "execution_count": 573,
   "metadata": {},
   "outputs": [
    {
     "data": {
      "text/plain": [
       "[<matplotlib.lines.Line2D at 0x7f05105efe10>]"
      ]
     },
     "execution_count": 573,
     "metadata": {},
     "output_type": "execute_result"
    },
    {
     "data": {
      "image/png": "[encoded data removed]",
      "text/plain": [
       "<Figure size 432x288 with 1 Axes>"
      ]
     },
     "metadata": {},
     "output_type": "display_data"
    }
   ],
   "source": [
    "fig, ax = plt.subplots(1, 1)\n",
    "ax.plot(X, y, '.')\n",
    "ax.plot(X, (reg.intercept_ + (reg.coef_*X)))"
   ]
  },
  {
   "cell_type": "code",
   "execution_count": 576,
   "metadata": {},
   "outputs": [
    {
     "data": {
      "text/plain": [
       "Intercept    18.365079\n",
       "T            -0.243373\n",
       "dtype: float64"
      ]
     },
     "execution_count": 576,
     "metadata": {},
     "output_type": "execute_result"
    }
   ],
   "source": [
    "lm = smf.ols(formula='I~T', data=df).fit()\n",
    "lm.params"
   ]
  },
  {
   "cell_type": "code",
   "execution_count": 577,
   "metadata": {},
   "outputs": [
    {
     "data": {
      "text/html": [
       "<table class=\"simpletable\">\n",
       "<caption>OLS Regression Results</caption>\n",
       "<tr>\n",
       "  <th>Dep. Variable:</th>            <td>I</td>        <th>  R-squared:         </th> <td>   0.412</td>\n",
       "</tr>\n",
       "<tr>\n",
       "  <th>Model:</th>                   <td>OLS</td>       <th>  Adj. R-squared:    </th> <td>   0.384</td>\n",
       "</tr>\n",
       "<tr>\n",
       "  <th>Method:</th>             <td>Least Squares</td>  <th>  F-statistic:       </th> <td>   14.69</td>\n",
       "</tr>\n",
       "<tr>\n",
       "  <th>Date:</th>             <td>Sun, 02 Aug 2020</td> <th>  Prob (F-statistic):</th> <td>0.000968</td>\n",
       "</tr>\n",
       "<tr>\n",
       "  <th>Time:</th>                 <td>18:45:25</td>     <th>  Log-Likelihood:    </th> <td> -48.672</td>\n",
       "</tr>\n",
       "<tr>\n",
       "  <th>No. Observations:</th>      <td>    23</td>      <th>  AIC:               </th> <td>   101.3</td>\n",
       "</tr>\n",
       "<tr>\n",
       "  <th>Df Residuals:</th>          <td>    21</td>      <th>  BIC:               </th> <td>   103.6</td>\n",
       "</tr>\n",
       "<tr>\n",
       "  <th>Df Model:</th>              <td>     1</td>      <th>                     </th>     <td> </td>   \n",
       "</tr>\n",
       "<tr>\n",
       "  <th>Covariance Type:</th>      <td>nonrobust</td>    <th>                     </th>     <td> </td>   \n",
       "</tr>\n",
       "</table>\n",
       "<table class=\"simpletable\">\n",
       "<tr>\n",
       "      <td></td>         <th>coef</th>     <th>std err</th>      <th>t</th>      <th>P>|t|</th>  <th>[0.025</th>    <th>0.975]</th>  \n",
       "</tr>\n",
       "<tr>\n",
       "  <th>Intercept</th> <td>   18.3651</td> <td>    4.439</td> <td>    4.138</td> <td> 0.000</td> <td>    9.135</td> <td>   27.596</td>\n",
       "</tr>\n",
       "<tr>\n",
       "  <th>T</th>         <td>   -0.2434</td> <td>    0.063</td> <td>   -3.833</td> <td> 0.001</td> <td>   -0.375</td> <td>   -0.111</td>\n",
       "</tr>\n",
       "</table>\n",
       "<table class=\"simpletable\">\n",
       "<tr>\n",
       "  <th>Omnibus:</th>       <td> 7.558</td> <th>  Durbin-Watson:     </th> <td>   1.466</td>\n",
       "</tr>\n",
       "<tr>\n",
       "  <th>Prob(Omnibus):</th> <td> 0.023</td> <th>  Jarque-Bera (JB):  </th> <td>   5.542</td>\n",
       "</tr>\n",
       "<tr>\n",
       "  <th>Skew:</th>          <td> 1.152</td> <th>  Prob(JB):          </th> <td>  0.0626</td>\n",
       "</tr>\n",
       "<tr>\n",
       "  <th>Kurtosis:</th>      <td> 3.687</td> <th>  Cond. No.          </th> <td>    708.</td>\n",
       "</tr>\n",
       "</table><br/><br/>Warnings:<br/>[1] Standard Errors assume that the covariance matrix of the errors is correctly specified."
      ],
      "text/plain": [
       "<class 'statsmodels.iolib.summary.Summary'>\n",
       "\"\"\"\n",
       "                            OLS Regression Results                            \n",
       "==============================================================================\n",
       "Dep. Variable:                      I   R-squared:                       0.412\n",
       "Model:                            OLS   Adj. R-squared:                  0.384\n",
       "Method:                 Least Squares   F-statistic:                     14.69\n",
       "Date:                Sun, 02 Aug 2020   Prob (F-statistic):           0.000968\n",
       "Time:                        18:45:25   Log-Likelihood:                -48.672\n",
       "No. Observations:                  23   AIC:                             101.3\n",
       "Df Residuals:                      21   BIC:                             103.6\n",
       "Df Model:                           1                                         \n",
       "Covariance Type:            nonrobust                                         \n",
       "==============================================================================\n",
       "                 coef    std err          t      P>|t|      [0.025      0.975]\n",
       "------------------------------------------------------------------------------\n",
       "Intercept     18.3651      4.439      4.138      0.000       9.135      27.596\n",
       "T             -0.2434      0.063     -3.833      0.001      -0.375      -0.111\n",
       "==============================================================================\n",
       "Omnibus:                        7.558   Durbin-Watson:                   1.466\n",
       "Prob(Omnibus):                  0.023   Jarque-Bera (JB):                5.542\n",
       "Skew:                           1.152   Prob(JB):                       0.0626\n",
       "Kurtosis:                       3.687   Cond. No.                         708.\n",
       "==============================================================================\n",
       "\n",
       "Warnings:\n",
       "[1] Standard Errors assume that the covariance matrix of the errors is correctly specified.\n",
       "\"\"\""
      ]
     },
     "execution_count": 577,
     "metadata": {},
     "output_type": "execute_result"
    }
   ],
   "source": [
    "lm.summary()"
   ]
  },
  {
   "cell_type": "code",
   "execution_count": 578,
   "metadata": {},
   "outputs": [
    {
     "data": {
      "text/html": [
       "<div>\n",
       "<style scoped>\n",
       "    .dataframe tbody tr th:only-of-type {\n",
       "        vertical-align: middle;\n",
       "    }\n",
       "\n",
       "    .dataframe tbody tr th {\n",
       "        vertical-align: top;\n",
       "    }\n",
       "\n",
       "    .dataframe thead th {\n",
       "        text-align: right;\n",
       "    }\n",
       "</style>\n",
       "<table border=\"1\" class=\"dataframe\">\n",
       "  <thead>\n",
       "    <tr style=\"text-align: right;\">\n",
       "      <th></th>\n",
       "      <th>0</th>\n",
       "      <th>1</th>\n",
       "    </tr>\n",
       "  </thead>\n",
       "  <tbody>\n",
       "    <tr>\n",
       "      <th>Intercept</th>\n",
       "      <td>9.134531</td>\n",
       "      <td>27.595627</td>\n",
       "    </tr>\n",
       "    <tr>\n",
       "      <th>T</th>\n",
       "      <td>-0.375414</td>\n",
       "      <td>-0.111332</td>\n",
       "    </tr>\n",
       "  </tbody>\n",
       "</table>\n",
       "</div>"
      ],
      "text/plain": [
       "                  0          1\n",
       "Intercept  9.134531  27.595627\n",
       "T         -0.375414  -0.111332"
      ]
     },
     "execution_count": 578,
     "metadata": {},
     "output_type": "execute_result"
    }
   ],
   "source": [
    "lm.conf_int()"
   ]
  },
  {
   "cell_type": "code",
   "execution_count": 581,
   "metadata": {},
   "outputs": [
    {
     "data": {
      "text/plain": [
       "0    10.820516\n",
       "dtype: float64"
      ]
     },
     "execution_count": 581,
     "metadata": {},
     "output_type": "execute_result"
    }
   ],
   "source": [
    "lm.predict({'T': [31]})"
   ]
  },
  {
   "cell_type": "code",
   "execution_count": 590,
   "metadata": {},
   "outputs": [
    {
     "name": "stderr",
     "output_type": "stream",
     "text": [
      "/home/ec2-user/anaconda3/envs/python3/lib/python3.6/site-packages/scipy/stats/stats.py:1713: FutureWarning: Using a non-tuple sequence for multidimensional indexing is deprecated; use `arr[tuple(seq)]` instead of `arr[seq]`. In the future this will be interpreted as an array index, `arr[np.array(seq)]`, which will result either in an error or a different result.\n",
      "  return np.add.reduce(sorted[indexer] * weights, axis=axis) / sumval\n",
      "/home/ec2-user/anaconda3/envs/python3/lib/python3.6/site-packages/statsmodels/regression/quantile_regression.py:237: RuntimeWarning: invalid value encountered in less_equal\n",
      "  kernels['epa'] = lambda u: 3. / 4 * (1-u**2) * np.where(np.abs(u) <= 1, 1, 0)\n",
      "/home/ec2-user/anaconda3/envs/python3/lib/python3.6/site-packages/scipy/stats/_distn_infrastructure.py:879: RuntimeWarning: invalid value encountered in greater\n",
      "  return (self.a < x) & (x < self.b)\n",
      "/home/ec2-user/anaconda3/envs/python3/lib/python3.6/site-packages/scipy/stats/_distn_infrastructure.py:879: RuntimeWarning: invalid value encountered in less\n",
      "  return (self.a < x) & (x < self.b)\n",
      "/home/ec2-user/anaconda3/envs/python3/lib/python3.6/site-packages/scipy/stats/_distn_infrastructure.py:1821: RuntimeWarning: invalid value encountered in less_equal\n",
      "  cond2 = cond0 & (x <= self.a)\n"
     ]
    },
    {
     "data": {
      "text/html": [
       "<table class=\"simpletable\">\n",
       "<caption>QuantReg Regression Results</caption>\n",
       "<tr>\n",
       "  <th>Dep. Variable:</th>         <td>I</td>        <th>  Pseudo R-squared:  </th> <td>  0.6540</td>\n",
       "</tr>\n",
       "<tr>\n",
       "  <th>Model:</th>             <td>QuantReg</td>     <th>  Bandwidth:         </th> <td>     nan</td>\n",
       "</tr>\n",
       "<tr>\n",
       "  <th>Method:</th>          <td>Least Squares</td>  <th>  Sparsity:          </th> <td>     nan</td>\n",
       "</tr>\n",
       "<tr>\n",
       "  <th>Date:</th>          <td>Sun, 02 Aug 2020</td> <th>  No. Observations:  </th>  <td>    23</td> \n",
       "</tr>\n",
       "<tr>\n",
       "  <th>Time:</th>              <td>19:04:51</td>     <th>  Df Residuals:      </th>  <td>    21</td> \n",
       "</tr>\n",
       "<tr>\n",
       "  <th> </th>                      <td> </td>        <th>  Df Model:          </th>  <td>     1</td> \n",
       "</tr>\n",
       "</table>\n",
       "<table class=\"simpletable\">\n",
       "<tr>\n",
       "      <td></td>         <th>coef</th>     <th>std err</th>      <th>t</th>      <th>P>|t|</th>  <th>[0.025</th>    <th>0.975]</th>  \n",
       "</tr>\n",
       "<tr>\n",
       "  <th>Intercept</th> <td>   27.8636</td> <td>      nan</td> <td>      nan</td> <td>   nan</td> <td>      nan</td> <td>      nan</td>\n",
       "</tr>\n",
       "<tr>\n",
       "  <th>T</th>         <td>   -0.3182</td> <td>      nan</td> <td>      nan</td> <td>   nan</td> <td>      nan</td> <td>      nan</td>\n",
       "</tr>\n",
       "</table>"
      ],
      "text/plain": [
       "<class 'statsmodels.iolib.summary.Summary'>\n",
       "\"\"\"\n",
       "                         QuantReg Regression Results                          \n",
       "==============================================================================\n",
       "Dep. Variable:                      I   Pseudo R-squared:               0.6540\n",
       "Model:                       QuantReg   Bandwidth:                         nan\n",
       "Method:                 Least Squares   Sparsity:                          nan\n",
       "Date:                Sun, 02 Aug 2020   No. Observations:                   23\n",
       "Time:                        19:04:51   Df Residuals:                       21\n",
       "                                        Df Model:                            1\n",
       "==============================================================================\n",
       "                 coef    std err          t      P>|t|      [0.025      0.975]\n",
       "------------------------------------------------------------------------------\n",
       "Intercept     27.8636        nan        nan        nan         nan         nan\n",
       "T             -0.3182        nan        nan        nan         nan         nan\n",
       "==============================================================================\n",
       "\"\"\""
      ]
     },
     "execution_count": 590,
     "metadata": {},
     "output_type": "execute_result"
    }
   ],
   "source": [
    "upper_lm = smf.quantreg('I~T', data=df).fit(q=0.975)\n",
    "upper_lm.summary()"
   ]
  },
  {
   "cell_type": "code",
   "execution_count": 589,
   "metadata": {},
   "outputs": [
    {
     "data": {
      "text/plain": [
       "0    6.923075\n",
       "dtype: float64"
      ]
     },
     "execution_count": 589,
     "metadata": {},
     "output_type": "execute_result"
    }
   ],
   "source": [
    "upper_lm.predict({'T':[31]})"
   ]
  },
  {
   "cell_type": "code",
   "execution_count": 597,
   "metadata": {},
   "outputs": [],
   "source": [
    "df_height = pd.read_csv('http://www.randomservices.org/random/data/Galton.txt', \n",
    "                        delimiter='\\t')"
   ]
  },
  {
   "cell_type": "code",
   "execution_count": 601,
   "metadata": {},
   "outputs": [],
   "source": [
    "lm_height = smf.ols('Height~Father+Mother+Gender+Kids', data=df_height).fit()"
   ]
  },
  {
   "cell_type": "code",
   "execution_count": 602,
   "metadata": {},
   "outputs": [
    {
     "data": {
      "text/html": [
       "<table class=\"simpletable\">\n",
       "<caption>OLS Regression Results</caption>\n",
       "<tr>\n",
       "  <th>Dep. Variable:</th>         <td>Height</td>      <th>  R-squared:         </th> <td>   0.641</td> \n",
       "</tr>\n",
       "<tr>\n",
       "  <th>Model:</th>                   <td>OLS</td>       <th>  Adj. R-squared:    </th> <td>   0.639</td> \n",
       "</tr>\n",
       "<tr>\n",
       "  <th>Method:</th>             <td>Least Squares</td>  <th>  F-statistic:       </th> <td>   398.1</td> \n",
       "</tr>\n",
       "<tr>\n",
       "  <th>Date:</th>             <td>Sun, 02 Aug 2020</td> <th>  Prob (F-statistic):</th> <td>9.09e-197</td>\n",
       "</tr>\n",
       "<tr>\n",
       "  <th>Time:</th>                 <td>19:11:06</td>     <th>  Log-Likelihood:    </th> <td> -1960.1</td> \n",
       "</tr>\n",
       "<tr>\n",
       "  <th>No. Observations:</th>      <td>   898</td>      <th>  AIC:               </th> <td>   3930.</td> \n",
       "</tr>\n",
       "<tr>\n",
       "  <th>Df Residuals:</th>          <td>   893</td>      <th>  BIC:               </th> <td>   3954.</td> \n",
       "</tr>\n",
       "<tr>\n",
       "  <th>Df Model:</th>              <td>     4</td>      <th>                     </th>     <td> </td>    \n",
       "</tr>\n",
       "<tr>\n",
       "  <th>Covariance Type:</th>      <td>nonrobust</td>    <th>                     </th>     <td> </td>    \n",
       "</tr>\n",
       "</table>\n",
       "<table class=\"simpletable\">\n",
       "<tr>\n",
       "       <td></td>          <th>coef</th>     <th>std err</th>      <th>t</th>      <th>P>|t|</th>  <th>[0.025</th>    <th>0.975]</th>  \n",
       "</tr>\n",
       "<tr>\n",
       "  <th>Intercept</th>   <td>   16.1877</td> <td>    2.794</td> <td>    5.794</td> <td> 0.000</td> <td>   10.704</td> <td>   21.671</td>\n",
       "</tr>\n",
       "<tr>\n",
       "  <th>Gender[T.M]</th> <td>    5.2099</td> <td>    0.144</td> <td>   36.125</td> <td> 0.000</td> <td>    4.927</td> <td>    5.493</td>\n",
       "</tr>\n",
       "<tr>\n",
       "  <th>Father</th>      <td>    0.3983</td> <td>    0.030</td> <td>   13.472</td> <td> 0.000</td> <td>    0.340</td> <td>    0.456</td>\n",
       "</tr>\n",
       "<tr>\n",
       "  <th>Mother</th>      <td>    0.3210</td> <td>    0.031</td> <td>   10.269</td> <td> 0.000</td> <td>    0.260</td> <td>    0.382</td>\n",
       "</tr>\n",
       "<tr>\n",
       "  <th>Kids</th>        <td>   -0.0438</td> <td>    0.027</td> <td>   -1.612</td> <td> 0.107</td> <td>   -0.097</td> <td>    0.010</td>\n",
       "</tr>\n",
       "</table>\n",
       "<table class=\"simpletable\">\n",
       "<tr>\n",
       "  <th>Omnibus:</th>       <td>12.177</td> <th>  Durbin-Watson:     </th> <td>   1.566</td>\n",
       "</tr>\n",
       "<tr>\n",
       "  <th>Prob(Omnibus):</th> <td> 0.002</td> <th>  Jarque-Bera (JB):  </th> <td>  16.265</td>\n",
       "</tr>\n",
       "<tr>\n",
       "  <th>Skew:</th>          <td>-0.149</td> <th>  Prob(JB):          </th> <td>0.000294</td>\n",
       "</tr>\n",
       "<tr>\n",
       "  <th>Kurtosis:</th>      <td> 3.588</td> <th>  Cond. No.          </th> <td>3.68e+03</td>\n",
       "</tr>\n",
       "</table><br/><br/>Warnings:<br/>[1] Standard Errors assume that the covariance matrix of the errors is correctly specified.<br/>[2] The condition number is large, 3.68e+03. This might indicate that there are<br/>strong multicollinearity or other numerical problems."
      ],
      "text/plain": [
       "<class 'statsmodels.iolib.summary.Summary'>\n",
       "\"\"\"\n",
       "                            OLS Regression Results                            \n",
       "==============================================================================\n",
       "Dep. Variable:                 Height   R-squared:                       0.641\n",
       "Model:                            OLS   Adj. R-squared:                  0.639\n",
       "Method:                 Least Squares   F-statistic:                     398.1\n",
       "Date:                Sun, 02 Aug 2020   Prob (F-statistic):          9.09e-197\n",
       "Time:                        19:11:06   Log-Likelihood:                -1960.1\n",
       "No. Observations:                 898   AIC:                             3930.\n",
       "Df Residuals:                     893   BIC:                             3954.\n",
       "Df Model:                           4                                         \n",
       "Covariance Type:            nonrobust                                         \n",
       "===============================================================================\n",
       "                  coef    std err          t      P>|t|      [0.025      0.975]\n",
       "-------------------------------------------------------------------------------\n",
       "Intercept      16.1877      2.794      5.794      0.000      10.704      21.671\n",
       "Gender[T.M]     5.2099      0.144     36.125      0.000       4.927       5.493\n",
       "Father          0.3983      0.030     13.472      0.000       0.340       0.456\n",
       "Mother          0.3210      0.031     10.269      0.000       0.260       0.382\n",
       "Kids           -0.0438      0.027     -1.612      0.107      -0.097       0.010\n",
       "==============================================================================\n",
       "Omnibus:                       12.177   Durbin-Watson:                   1.566\n",
       "Prob(Omnibus):                  0.002   Jarque-Bera (JB):               16.265\n",
       "Skew:                          -0.149   Prob(JB):                     0.000294\n",
       "Kurtosis:                       3.588   Cond. No.                     3.68e+03\n",
       "==============================================================================\n",
       "\n",
       "Warnings:\n",
       "[1] Standard Errors assume that the covariance matrix of the errors is correctly specified.\n",
       "[2] The condition number is large, 3.68e+03. This might indicate that there are\n",
       "strong multicollinearity or other numerical problems.\n",
       "\"\"\""
      ]
     },
     "execution_count": 602,
     "metadata": {},
     "output_type": "execute_result"
    }
   ],
   "source": [
    "lm_height.summary()"
   ]
  },
  {
   "cell_type": "code",
   "execution_count": 604,
   "metadata": {},
   "outputs": [
    {
     "data": {
      "text/html": [
       "<table class=\"simpletable\">\n",
       "<caption>OLS Regression Results</caption>\n",
       "<tr>\n",
       "  <th>Dep. Variable:</th>         <td>Height</td>      <th>  R-squared:         </th> <td>   0.640</td> \n",
       "</tr>\n",
       "<tr>\n",
       "  <th>Model:</th>                   <td>OLS</td>       <th>  Adj. R-squared:    </th> <td>   0.638</td> \n",
       "</tr>\n",
       "<tr>\n",
       "  <th>Method:</th>             <td>Least Squares</td>  <th>  F-statistic:       </th> <td>   529.0</td> \n",
       "</tr>\n",
       "<tr>\n",
       "  <th>Date:</th>             <td>Sun, 02 Aug 2020</td> <th>  Prob (F-statistic):</th> <td>1.33e-197</td>\n",
       "</tr>\n",
       "<tr>\n",
       "  <th>Time:</th>                 <td>19:12:39</td>     <th>  Log-Likelihood:    </th> <td> -1961.4</td> \n",
       "</tr>\n",
       "<tr>\n",
       "  <th>No. Observations:</th>      <td>   898</td>      <th>  AIC:               </th> <td>   3931.</td> \n",
       "</tr>\n",
       "<tr>\n",
       "  <th>Df Residuals:</th>          <td>   894</td>      <th>  BIC:               </th> <td>   3950.</td> \n",
       "</tr>\n",
       "<tr>\n",
       "  <th>Df Model:</th>              <td>     3</td>      <th>                     </th>     <td> </td>    \n",
       "</tr>\n",
       "<tr>\n",
       "  <th>Covariance Type:</th>      <td>nonrobust</td>    <th>                     </th>     <td> </td>    \n",
       "</tr>\n",
       "</table>\n",
       "<table class=\"simpletable\">\n",
       "<tr>\n",
       "       <td></td>          <th>coef</th>     <th>std err</th>      <th>t</th>      <th>P>|t|</th>  <th>[0.025</th>    <th>0.975]</th>  \n",
       "</tr>\n",
       "<tr>\n",
       "  <th>Intercept</th>   <td>   15.3448</td> <td>    2.747</td> <td>    5.586</td> <td> 0.000</td> <td>    9.954</td> <td>   20.736</td>\n",
       "</tr>\n",
       "<tr>\n",
       "  <th>Gender[T.M]</th> <td>    5.2260</td> <td>    0.144</td> <td>   36.289</td> <td> 0.000</td> <td>    4.943</td> <td>    5.509</td>\n",
       "</tr>\n",
       "<tr>\n",
       "  <th>Father</th>      <td>    0.4060</td> <td>    0.029</td> <td>   13.900</td> <td> 0.000</td> <td>    0.349</td> <td>    0.463</td>\n",
       "</tr>\n",
       "<tr>\n",
       "  <th>Mother</th>      <td>    0.3215</td> <td>    0.031</td> <td>   10.277</td> <td> 0.000</td> <td>    0.260</td> <td>    0.383</td>\n",
       "</tr>\n",
       "</table>\n",
       "<table class=\"simpletable\">\n",
       "<tr>\n",
       "  <th>Omnibus:</th>       <td>11.936</td> <th>  Durbin-Watson:     </th> <td>   1.560</td>\n",
       "</tr>\n",
       "<tr>\n",
       "  <th>Prob(Omnibus):</th> <td> 0.003</td> <th>  Jarque-Bera (JB):  </th> <td>  15.952</td>\n",
       "</tr>\n",
       "<tr>\n",
       "  <th>Skew:</th>          <td>-0.145</td> <th>  Prob(JB):          </th> <td>0.000344</td>\n",
       "</tr>\n",
       "<tr>\n",
       "  <th>Kurtosis:</th>      <td> 3.585</td> <th>  Cond. No.          </th> <td>3.61e+03</td>\n",
       "</tr>\n",
       "</table><br/><br/>Warnings:<br/>[1] Standard Errors assume that the covariance matrix of the errors is correctly specified.<br/>[2] The condition number is large, 3.61e+03. This might indicate that there are<br/>strong multicollinearity or other numerical problems."
      ],
      "text/plain": [
       "<class 'statsmodels.iolib.summary.Summary'>\n",
       "\"\"\"\n",
       "                            OLS Regression Results                            \n",
       "==============================================================================\n",
       "Dep. Variable:                 Height   R-squared:                       0.640\n",
       "Model:                            OLS   Adj. R-squared:                  0.638\n",
       "Method:                 Least Squares   F-statistic:                     529.0\n",
       "Date:                Sun, 02 Aug 2020   Prob (F-statistic):          1.33e-197\n",
       "Time:                        19:12:39   Log-Likelihood:                -1961.4\n",
       "No. Observations:                 898   AIC:                             3931.\n",
       "Df Residuals:                     894   BIC:                             3950.\n",
       "Df Model:                           3                                         \n",
       "Covariance Type:            nonrobust                                         \n",
       "===============================================================================\n",
       "                  coef    std err          t      P>|t|      [0.025      0.975]\n",
       "-------------------------------------------------------------------------------\n",
       "Intercept      15.3448      2.747      5.586      0.000       9.954      20.736\n",
       "Gender[T.M]     5.2260      0.144     36.289      0.000       4.943       5.509\n",
       "Father          0.4060      0.029     13.900      0.000       0.349       0.463\n",
       "Mother          0.3215      0.031     10.277      0.000       0.260       0.383\n",
       "==============================================================================\n",
       "Omnibus:                       11.936   Durbin-Watson:                   1.560\n",
       "Prob(Omnibus):                  0.003   Jarque-Bera (JB):               15.952\n",
       "Skew:                          -0.145   Prob(JB):                     0.000344\n",
       "Kurtosis:                       3.585   Cond. No.                     3.61e+03\n",
       "==============================================================================\n",
       "\n",
       "Warnings:\n",
       "[1] Standard Errors assume that the covariance matrix of the errors is correctly specified.\n",
       "[2] The condition number is large, 3.61e+03. This might indicate that there are\n",
       "strong multicollinearity or other numerical problems.\n",
       "\"\"\""
      ]
     },
     "execution_count": 604,
     "metadata": {},
     "output_type": "execute_result"
    }
   ],
   "source": [
    "lm_height = smf.ols('Height~Father+Mother+Gender', data=df_height).fit()\n",
    "lm_height.summary()"
   ]
  },
  {
   "cell_type": "code",
   "execution_count": 615,
   "metadata": {},
   "outputs": [
    {
     "data": {
      "text/html": [
       "<div>\n",
       "<style scoped>\n",
       "    .dataframe tbody tr th:only-of-type {\n",
       "        vertical-align: middle;\n",
       "    }\n",
       "\n",
       "    .dataframe tbody tr th {\n",
       "        vertical-align: top;\n",
       "    }\n",
       "\n",
       "    .dataframe thead th {\n",
       "        text-align: right;\n",
       "    }\n",
       "</style>\n",
       "<table border=\"1\" class=\"dataframe\">\n",
       "  <thead>\n",
       "    <tr style=\"text-align: right;\">\n",
       "      <th></th>\n",
       "      <th>distance</th>\n",
       "      <th>accuracy</th>\n",
       "      <th>gender</th>\n",
       "    </tr>\n",
       "  </thead>\n",
       "  <tbody>\n",
       "    <tr>\n",
       "      <th>0</th>\n",
       "      <td>243.2</td>\n",
       "      <td>67.0</td>\n",
       "      <td>1</td>\n",
       "    </tr>\n",
       "    <tr>\n",
       "      <th>1</th>\n",
       "      <td>254.5</td>\n",
       "      <td>70.1</td>\n",
       "      <td>1</td>\n",
       "    </tr>\n",
       "    <tr>\n",
       "      <th>2</th>\n",
       "      <td>253.1</td>\n",
       "      <td>59.3</td>\n",
       "      <td>1</td>\n",
       "    </tr>\n",
       "    <tr>\n",
       "      <th>3</th>\n",
       "      <td>228.1</td>\n",
       "      <td>70.4</td>\n",
       "      <td>1</td>\n",
       "    </tr>\n",
       "    <tr>\n",
       "      <th>4</th>\n",
       "      <td>240.8</td>\n",
       "      <td>69.5</td>\n",
       "      <td>1</td>\n",
       "    </tr>\n",
       "    <tr>\n",
       "      <th>5</th>\n",
       "      <td>244.0</td>\n",
       "      <td>69.0</td>\n",
       "      <td>1</td>\n",
       "    </tr>\n",
       "    <tr>\n",
       "      <th>6</th>\n",
       "      <td>257.9</td>\n",
       "      <td>66.3</td>\n",
       "      <td>1</td>\n",
       "    </tr>\n",
       "    <tr>\n",
       "      <th>7</th>\n",
       "      <td>255.8</td>\n",
       "      <td>68.3</td>\n",
       "      <td>1</td>\n",
       "    </tr>\n",
       "    <tr>\n",
       "      <th>8</th>\n",
       "      <td>249.9</td>\n",
       "      <td>63.5</td>\n",
       "      <td>1</td>\n",
       "    </tr>\n",
       "    <tr>\n",
       "      <th>9</th>\n",
       "      <td>251.3</td>\n",
       "      <td>70.3</td>\n",
       "      <td>1</td>\n",
       "    </tr>\n",
       "    <tr>\n",
       "      <th>10</th>\n",
       "      <td>244.4</td>\n",
       "      <td>66.0</td>\n",
       "      <td>1</td>\n",
       "    </tr>\n",
       "    <tr>\n",
       "      <th>11</th>\n",
       "      <td>246.6</td>\n",
       "      <td>70.1</td>\n",
       "      <td>1</td>\n",
       "    </tr>\n",
       "    <tr>\n",
       "      <th>12</th>\n",
       "      <td>239.2</td>\n",
       "      <td>68.6</td>\n",
       "      <td>1</td>\n",
       "    </tr>\n",
       "    <tr>\n",
       "      <th>13</th>\n",
       "      <td>236.2</td>\n",
       "      <td>56.9</td>\n",
       "      <td>1</td>\n",
       "    </tr>\n",
       "    <tr>\n",
       "      <th>14</th>\n",
       "      <td>267.7</td>\n",
       "      <td>67.2</td>\n",
       "      <td>1</td>\n",
       "    </tr>\n",
       "    <tr>\n",
       "      <th>15</th>\n",
       "      <td>235.3</td>\n",
       "      <td>75.5</td>\n",
       "      <td>1</td>\n",
       "    </tr>\n",
       "    <tr>\n",
       "      <th>16</th>\n",
       "      <td>249.1</td>\n",
       "      <td>64.2</td>\n",
       "      <td>1</td>\n",
       "    </tr>\n",
       "    <tr>\n",
       "      <th>17</th>\n",
       "      <td>239.4</td>\n",
       "      <td>65.8</td>\n",
       "      <td>1</td>\n",
       "    </tr>\n",
       "    <tr>\n",
       "      <th>18</th>\n",
       "      <td>244.2</td>\n",
       "      <td>65.6</td>\n",
       "      <td>1</td>\n",
       "    </tr>\n",
       "    <tr>\n",
       "      <th>19</th>\n",
       "      <td>259.7</td>\n",
       "      <td>68.5</td>\n",
       "      <td>1</td>\n",
       "    </tr>\n",
       "    <tr>\n",
       "      <th>20</th>\n",
       "      <td>268.5</td>\n",
       "      <td>54.2</td>\n",
       "      <td>1</td>\n",
       "    </tr>\n",
       "    <tr>\n",
       "      <th>21</th>\n",
       "      <td>248.2</td>\n",
       "      <td>68.4</td>\n",
       "      <td>1</td>\n",
       "    </tr>\n",
       "    <tr>\n",
       "      <th>22</th>\n",
       "      <td>247.2</td>\n",
       "      <td>71.8</td>\n",
       "      <td>1</td>\n",
       "    </tr>\n",
       "    <tr>\n",
       "      <th>23</th>\n",
       "      <td>236.8</td>\n",
       "      <td>67.8</td>\n",
       "      <td>1</td>\n",
       "    </tr>\n",
       "    <tr>\n",
       "      <th>24</th>\n",
       "      <td>238.2</td>\n",
       "      <td>65.3</td>\n",
       "      <td>1</td>\n",
       "    </tr>\n",
       "    <tr>\n",
       "      <th>25</th>\n",
       "      <td>229.3</td>\n",
       "      <td>73.1</td>\n",
       "      <td>1</td>\n",
       "    </tr>\n",
       "    <tr>\n",
       "      <th>26</th>\n",
       "      <td>253.1</td>\n",
       "      <td>65.1</td>\n",
       "      <td>1</td>\n",
       "    </tr>\n",
       "    <tr>\n",
       "      <th>27</th>\n",
       "      <td>252.0</td>\n",
       "      <td>70.8</td>\n",
       "      <td>1</td>\n",
       "    </tr>\n",
       "    <tr>\n",
       "      <th>28</th>\n",
       "      <td>259.4</td>\n",
       "      <td>65.4</td>\n",
       "      <td>1</td>\n",
       "    </tr>\n",
       "    <tr>\n",
       "      <th>29</th>\n",
       "      <td>226.7</td>\n",
       "      <td>72.1</td>\n",
       "      <td>1</td>\n",
       "    </tr>\n",
       "    <tr>\n",
       "      <th>...</th>\n",
       "      <td>...</td>\n",
       "      <td>...</td>\n",
       "      <td>...</td>\n",
       "    </tr>\n",
       "    <tr>\n",
       "      <th>324</th>\n",
       "      <td>303.2</td>\n",
       "      <td>58.3</td>\n",
       "      <td>2</td>\n",
       "    </tr>\n",
       "    <tr>\n",
       "      <th>325</th>\n",
       "      <td>282.0</td>\n",
       "      <td>70.4</td>\n",
       "      <td>2</td>\n",
       "    </tr>\n",
       "    <tr>\n",
       "      <th>326</th>\n",
       "      <td>281.9</td>\n",
       "      <td>61.0</td>\n",
       "      <td>2</td>\n",
       "    </tr>\n",
       "    <tr>\n",
       "      <th>327</th>\n",
       "      <td>287.0</td>\n",
       "      <td>59.9</td>\n",
       "      <td>2</td>\n",
       "    </tr>\n",
       "    <tr>\n",
       "      <th>328</th>\n",
       "      <td>293.5</td>\n",
       "      <td>63.8</td>\n",
       "      <td>2</td>\n",
       "    </tr>\n",
       "    <tr>\n",
       "      <th>329</th>\n",
       "      <td>283.6</td>\n",
       "      <td>56.3</td>\n",
       "      <td>2</td>\n",
       "    </tr>\n",
       "    <tr>\n",
       "      <th>330</th>\n",
       "      <td>296.9</td>\n",
       "      <td>55.3</td>\n",
       "      <td>2</td>\n",
       "    </tr>\n",
       "    <tr>\n",
       "      <th>331</th>\n",
       "      <td>290.9</td>\n",
       "      <td>58.2</td>\n",
       "      <td>2</td>\n",
       "    </tr>\n",
       "    <tr>\n",
       "      <th>332</th>\n",
       "      <td>303.0</td>\n",
       "      <td>58.1</td>\n",
       "      <td>2</td>\n",
       "    </tr>\n",
       "    <tr>\n",
       "      <th>333</th>\n",
       "      <td>292.8</td>\n",
       "      <td>61.1</td>\n",
       "      <td>2</td>\n",
       "    </tr>\n",
       "    <tr>\n",
       "      <th>334</th>\n",
       "      <td>281.1</td>\n",
       "      <td>65.0</td>\n",
       "      <td>2</td>\n",
       "    </tr>\n",
       "    <tr>\n",
       "      <th>335</th>\n",
       "      <td>293.0</td>\n",
       "      <td>61.1</td>\n",
       "      <td>2</td>\n",
       "    </tr>\n",
       "    <tr>\n",
       "      <th>336</th>\n",
       "      <td>284.0</td>\n",
       "      <td>66.5</td>\n",
       "      <td>2</td>\n",
       "    </tr>\n",
       "    <tr>\n",
       "      <th>337</th>\n",
       "      <td>279.8</td>\n",
       "      <td>66.7</td>\n",
       "      <td>2</td>\n",
       "    </tr>\n",
       "    <tr>\n",
       "      <th>338</th>\n",
       "      <td>292.9</td>\n",
       "      <td>65.4</td>\n",
       "      <td>2</td>\n",
       "    </tr>\n",
       "    <tr>\n",
       "      <th>339</th>\n",
       "      <td>284.0</td>\n",
       "      <td>66.9</td>\n",
       "      <td>2</td>\n",
       "    </tr>\n",
       "    <tr>\n",
       "      <th>340</th>\n",
       "      <td>282.0</td>\n",
       "      <td>64.5</td>\n",
       "      <td>2</td>\n",
       "    </tr>\n",
       "    <tr>\n",
       "      <th>341</th>\n",
       "      <td>280.6</td>\n",
       "      <td>64.0</td>\n",
       "      <td>2</td>\n",
       "    </tr>\n",
       "    <tr>\n",
       "      <th>342</th>\n",
       "      <td>287.7</td>\n",
       "      <td>63.4</td>\n",
       "      <td>2</td>\n",
       "    </tr>\n",
       "    <tr>\n",
       "      <th>343</th>\n",
       "      <td>287.7</td>\n",
       "      <td>63.4</td>\n",
       "      <td>2</td>\n",
       "    </tr>\n",
       "    <tr>\n",
       "      <th>344</th>\n",
       "      <td>298.3</td>\n",
       "      <td>59.5</td>\n",
       "      <td>2</td>\n",
       "    </tr>\n",
       "    <tr>\n",
       "      <th>345</th>\n",
       "      <td>299.6</td>\n",
       "      <td>53.4</td>\n",
       "      <td>2</td>\n",
       "    </tr>\n",
       "    <tr>\n",
       "      <th>346</th>\n",
       "      <td>291.3</td>\n",
       "      <td>62.5</td>\n",
       "      <td>2</td>\n",
       "    </tr>\n",
       "    <tr>\n",
       "      <th>347</th>\n",
       "      <td>295.2</td>\n",
       "      <td>61.4</td>\n",
       "      <td>2</td>\n",
       "    </tr>\n",
       "    <tr>\n",
       "      <th>348</th>\n",
       "      <td>288.0</td>\n",
       "      <td>62.4</td>\n",
       "      <td>2</td>\n",
       "    </tr>\n",
       "    <tr>\n",
       "      <th>349</th>\n",
       "      <td>297.8</td>\n",
       "      <td>59.5</td>\n",
       "      <td>2</td>\n",
       "    </tr>\n",
       "    <tr>\n",
       "      <th>350</th>\n",
       "      <td>286.0</td>\n",
       "      <td>62.6</td>\n",
       "      <td>2</td>\n",
       "    </tr>\n",
       "    <tr>\n",
       "      <th>351</th>\n",
       "      <td>285.3</td>\n",
       "      <td>66.2</td>\n",
       "      <td>2</td>\n",
       "    </tr>\n",
       "    <tr>\n",
       "      <th>352</th>\n",
       "      <td>286.9</td>\n",
       "      <td>63.4</td>\n",
       "      <td>2</td>\n",
       "    </tr>\n",
       "    <tr>\n",
       "      <th>353</th>\n",
       "      <td>275.1</td>\n",
       "      <td>73.7</td>\n",
       "      <td>2</td>\n",
       "    </tr>\n",
       "  </tbody>\n",
       "</table>\n",
       "<p>354 rows × 3 columns</p>\n",
       "</div>"
      ],
      "text/plain": [
       "     distance  accuracy  gender\n",
       "0       243.2      67.0       1\n",
       "1       254.5      70.1       1\n",
       "2       253.1      59.3       1\n",
       "3       228.1      70.4       1\n",
       "4       240.8      69.5       1\n",
       "..        ...       ...     ...\n",
       "349     297.8      59.5       2\n",
       "350     286.0      62.6       2\n",
       "351     285.3      66.2       2\n",
       "352     286.9      63.4       2\n",
       "353     275.1      73.7       2\n",
       "\n",
       "[354 rows x 3 columns]"
      ]
     },
     "execution_count": 615,
     "metadata": {},
     "output_type": "execute_result"
    }
   ],
   "source": [
    "df_golf = pd.read_csv('http://www.stat.ufl.edu/~winner/data/pgalpga2008.dat',\n",
    "                      sep = '\\s+',\n",
    "                      names=['distance', 'accuracy', 'gender'],\n",
    "                      header=None)\n",
    "df_golf"
   ]
  },
  {
   "cell_type": "code",
   "execution_count": 622,
   "metadata": {},
   "outputs": [
    {
     "data": {
      "text/plain": [
       "[<matplotlib.lines.Line2D at 0x7f050da582b0>]"
      ]
     },
     "execution_count": 622,
     "metadata": {},
     "output_type": "execute_result"
    },
    {
     "data": {
      "image/png": "[encoded data removed]",
      "text/plain": [
       "<Figure size 432x288 with 1 Axes>"
      ]
     },
     "metadata": {},
     "output_type": "display_data"
    }
   ],
   "source": [
    "X = np.array(df_golf[df_golf['gender'] == 1]['distance']).reshape(-1,1)\n",
    "y = np.array(df_golf[df_golf['gender'] == 1]['accuracy'])\n",
    "reg_f = LinearRegression().fit(X,y)\n",
    "\n",
    "fig, ax = plt.subplots(1, 1)\n",
    "ax.plot(X, y, '.')\n",
    "ax.plot(X, (reg_f.intercept_ + (reg_f.coef_*X)))"
   ]
  },
  {
   "cell_type": "code",
   "execution_count": 623,
   "metadata": {},
   "outputs": [
    {
     "data": {
      "text/plain": [
       "[<matplotlib.lines.Line2D at 0x7f050d9af400>]"
      ]
     },
     "execution_count": 623,
     "metadata": {},
     "output_type": "execute_result"
    },
    {
     "data": {
      "image/png": "[encoded data removed]",
      "text/plain": [
       "<Figure size 432x288 with 1 Axes>"
      ]
     },
     "metadata": {},
     "output_type": "display_data"
    }
   ],
   "source": [
    "X = np.array(df_golf[df_golf['gender'] == 2]['distance']).reshape(-1,1)\n",
    "y = np.array(df_golf[df_golf['gender'] == 2]['accuracy'])\n",
    "reg_m = LinearRegression().fit(X,y)\n",
    "\n",
    "fig, ax = plt.subplots(1, 1)\n",
    "ax.plot(X, y, '.')\n",
    "ax.plot(X, (reg_m.intercept_ + (reg_m.coef_*X)))"
   ]
  },
  {
   "cell_type": "code",
   "execution_count": 624,
   "metadata": {},
   "outputs": [
    {
     "data": {
      "text/plain": [
       "array([-0.2564907])"
      ]
     },
     "execution_count": 624,
     "metadata": {},
     "output_type": "execute_result"
    }
   ],
   "source": [
    "reg_f.coef_"
   ]
  },
  {
   "cell_type": "code",
   "execution_count": null,
   "metadata": {},
   "outputs": [],
   "source": []
  }
 ],
 "metadata": {
  "kernelspec": {
   "display_name": "conda_python3",
   "language": "python",
   "name": "conda_python3"
  },
  "language_info": {
   "codemirror_mode": {
    "name": "ipython",
    "version": 3
   },
   "file_extension": ".py",
   "mimetype": "text/x-python",
   "name": "python",
   "nbconvert_exporter": "python",
   "pygments_lexer": "ipython3",
   "version": "3.6.5"
  }
 },
 "nbformat": 4,
 "nbformat_minor": 4
}
